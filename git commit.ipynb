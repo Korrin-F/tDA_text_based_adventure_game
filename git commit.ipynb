{
 "cells": [
  {
   "cell_type": "code",
   "execution_count": null,
   "metadata": {},
   "outputs": [],
   "source": [
    "#-------------------------\n",
    "#     Task Instructios\n",
    "#-------------------------\n",
    "# Let users move through rooms based on user input and get descriptions of each room. Key points:\n",
    "# - establish the direction in which the player can move\n",
    "# - a way to track how far the user has moved (and therfore which room they are in)\n",
    "# - print out a description of the room\n",
    "# - create walls around rooms and let users know if they can not move in a particular direction\n",
    "#--------------------------"
   ]
  },
  {
   "cell_type": "code",
   "execution_count": null,
   "metadata": {},
   "outputs": [],
   "source": [
    "#--------------------------\n",
    "#     Initial Thoughts\n",
    "#--------------------------\n",
    "# Create a visual map to follow before coding\n",
    "# Each room is its own function potentialy\n",
    "# The location is stored?"
   ]
  },
  {
   "cell_type": "code",
   "execution_count": 6,
   "metadata": {},
   "outputs": [
    {
     "name": "stdout",
     "output_type": "stream",
     "text": [
      "Sorry I dont recognise that please try again. Type a lowercase 'w' for North, 's' for South, 'a' for West or 'd' for East\n",
      "Your in room one.\n",
      "...description of room... \n",
      " pick a direction to move in...\n",
      "Your in room three.\n",
      "...description of room... \n",
      " pick a direction to move in...\n"
     ]
    }
   ],
   "source": [
    "# This imports a library that will allow us to clear the cell output so we can see only the fresh information for a new room\n",
    "from tkinter import W\n",
    "from IPython.display import clear_output \n",
    "\n",
    "# We use this repeatedly to ask the user which direction they want to move in\n",
    "def user_input():\n",
    "    user_direction = input(\"Where would you like to go? Type lowercase 'w' for North, 's' for South, 'a' for West or 'd' for East\" )\n",
    "    return user_direction\n",
    "\n",
    "\n",
    "#--------------------------------------\n",
    "# Each room is labeled as a function\n",
    "#--------------------------------------\n",
    "\n",
    "#   ROOM 1\n",
    "def Rm1():\n",
    "    #clear_output(wait=True)\n",
    "    print(f\"Your in room one.\\n\"\n",
    "     \"...description of room... \\n\"\n",
    "     \" pick a direction to move in...\")\n",
    "    user_direction = user_input() \n",
    "    if user_direction == \"w\":\n",
    "        Rm2()\n",
    "    elif user_direction == \"a\":\n",
    "        Rm5()\n",
    "    elif user_direction == \"d\":\n",
    "        Rm3()\n",
    "    elif user_direction == \"s\":\n",
    "        Rm4()\n",
    "    else:\n",
    "        #for i in range(10):\n",
    "            clear_output(wait=True)\n",
    "            print(\"Sorry I dont recognise that please try again. Type a lowercase 'w' for North, 's' for South, 'a' for West or 'd' for East\")\n",
    "            Rm1() \n",
    "\n",
    "#   ROOM 2\n",
    "def Rm2():\n",
    "    clear_output(wait=True)\n",
    "    print(\"Your in room two \\n\"\n",
    "    \"...description of room... \\n\"\n",
    "     \" pick a direction to move in...\")\n",
    "    user_direction = user_input() \n",
    "    if user_direction == \"w\":\n",
    "        print(\"You can not go this direction.\")\n",
    "        Rm2()\n",
    "    elif user_direction == \"a\":\n",
    "        print(\"You can not go this direction.\")\n",
    "        Rm2()\n",
    "    elif user_direction == \"d\":\n",
    "        print(\"You can not go this direction.\")\n",
    "        Rm2()\n",
    "    elif user_direction == \"s\":\n",
    "        Rm1()\n",
    "    else:\n",
    "        clear_output(wait=True)\n",
    "        print(\"Sorry I dont recognise that please try again. Type a lowercase 'w' for North, 's' for South, 'a' for West or 'd' for East\")\n",
    "        Rm2()\n",
    "            \n",
    "\n",
    "#   ROOM 3\n",
    "def Rm3():\n",
    "    print(\"Your in room three.\\n\"\n",
    "    \"...description of room... \\n\"\n",
    "     \" pick a direction to move in...\")\n",
    "\n",
    "# ROOM 4\n",
    "def Rm4():\n",
    "    print(\"Your in room four. \\n\"\n",
    "    \"...description of room... \\n\"\n",
    "     \" pick a direction to move in...\")\n",
    "\n",
    "# ROOM 5\n",
    "def Rm5():\n",
    "    print(\"Your in room five. \\n\"\n",
    "    \"...description of room... \\n\"\n",
    "     \" pick a direction to move in...\")\n",
    "\n",
    "\n",
    "Rm1()\n"
   ]
  }
 ],
 "metadata": {
  "kernelspec": {
   "display_name": "Python 3.10.7 64-bit",
   "language": "python",
   "name": "python3"
  },
  "language_info": {
   "codemirror_mode": {
    "name": "ipython",
    "version": 3
   },
   "file_extension": ".py",
   "mimetype": "text/x-python",
   "name": "python",
   "nbconvert_exporter": "python",
   "pygments_lexer": "ipython3",
   "version": "3.10.7"
  },
  "orig_nbformat": 4,
  "vscode": {
   "interpreter": {
    "hash": "aee8b7b246df8f9039afb4144a1f6fd8d2ca17a180786b69acc140d282b71a49"
   }
  }
 },
 "nbformat": 4,
 "nbformat_minor": 2
}
