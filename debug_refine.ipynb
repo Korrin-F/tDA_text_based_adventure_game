{
 "cells": [
  {
   "cell_type": "code",
   "execution_count": 7,
   "metadata": {},
   "outputs": [],
   "source": [
    "import numpy as np\n",
    "#[\"Rm0\", \"a large courtyard.\", \"Rm1\",\"wall\",\"wall\",\"wall\"]\n",
    "cr_room = [(\"rm\",\"Rm0\"),(\"ri\",\"a large courtyard.\"),(\"w\",\"Rm1\"),(\"s\",\"wall\"),(\"d\",\"wall\"),(\"a\",\"wall\")]\n",
    "\n",
    "def u_input(cr_room):\n",
    "    user_direction = input(\"Where would you like to go? Type lowercase 'w' for North, 's' for South, 'a' for West or 'd' for East\" )\n",
    "    retry = cr_room\n",
    "   \n",
    "# w = [2] north\n",
    "# s = [3] south\n",
    "# d = [4] east\n",
    "# a = [5] west\n",
    "# extract(condition, arr) Return the elements of an array that satisfy some condition\n",
    "    extraction = np.extract(cr_room[user_direction])\n",
    "    print(extraction)\n",
    "    \n",
    "    if user_direction == \"w\":   # north\n",
    "        if cr_room[j] == \"wall\":\n",
    "            print(\"You can not go in this direction.\")\n",
    "            u_input(retry)\n",
    "        elif cr_room == \"w\" or cr_room == \"s\" or cr_room == \"d\" or cr_room == \"a\":\n",
    "            eval(cr_room[j] + \"()\") # calls the function by its string name...   NAILED IT\n",
    "        else:\n",
    "            print(\"Sorry I dont recognise that please try again. Type a lowercase 'w' for North, 's' for South, 'd' for East or 'a' for West\" )\n",
    "            u_input(retry)\n"
   ]
  },
  {
   "cell_type": "code",
   "execution_count": 3,
   "metadata": {},
   "outputs": [
    {
     "name": "stdout",
     "output_type": "stream",
     "text": [
      "{'l': 4, 'm': 6, 'n': 9}\n",
      "[('l', 4), ('m', 6), ('n', 9)]\n",
      "('n', 9)\n"
     ]
    }
   ],
   "source": [
    "my_dict = {} \n",
    "my_dict['l'] = 4\n",
    "my_dict['m'] = 6\n",
    "my_dict['n'] = 9\n",
    "print(my_dict)\n",
    "new_value = list(my_dict.items())\n",
    "print(new_value)\n",
    "print(new_value[2])"
   ]
  },
  {
   "cell_type": "code",
   "execution_count": 11,
   "metadata": {},
   "outputs": [
    {
     "name": "stdout",
     "output_type": "stream",
     "text": [
      "(array([], dtype=int64),)\n"
     ]
    }
   ],
   "source": [
    "cr_room = [(\"rm\",\"Rm0\"),(\"ri\",\"a large courtyard.\"),(\"w\",\"Rm1\"),(\"s\",\"wall\"),(\"d\",\"wall\"),(\"a\",\"wall\")]\n",
    "\n",
    "def u_input(cr_room):\n",
    "    user_direction = input(\"Where would you like to go? Type lowercase 'w' for North, 's' for South, 'a' for West or 'd' for East\" )\n",
    "   \n",
    "# w = [2] north\n",
    "# s = [3] south\n",
    "# d = [4] east\n",
    "# a = [5] west\n",
    "# extract(condition, arr) Return the elements of an array that satisfy some condition\n",
    "    extraction = np.extract(np.where(cr_room == user_direction), cr_room)\n",
    "    print(extraction)\n",
    "\n",
    "#u_input(cr_room)\n",
    "\n",
    "where = np.where(cr_room == 'w')\n",
    "print(where)\n"
   ]
  }
 ],
 "metadata": {
  "kernelspec": {
   "display_name": "Python 3.10.7 64-bit",
   "language": "python",
   "name": "python3"
  },
  "language_info": {
   "codemirror_mode": {
    "name": "ipython",
    "version": 3
   },
   "file_extension": ".py",
   "mimetype": "text/x-python",
   "name": "python",
   "nbconvert_exporter": "python",
   "pygments_lexer": "ipython3",
   "version": "3.10.7"
  },
  "orig_nbformat": 4,
  "vscode": {
   "interpreter": {
    "hash": "aee8b7b246df8f9039afb4144a1f6fd8d2ca17a180786b69acc140d282b71a49"
   }
  }
 },
 "nbformat": 4,
 "nbformat_minor": 2
}
